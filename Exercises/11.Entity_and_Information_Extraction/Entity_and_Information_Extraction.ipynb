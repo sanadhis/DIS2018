{
 "cells": [
  {
   "cell_type": "markdown",
   "metadata": {},
   "source": [
    "# Exercise 11: Entity and Relation Extraction"
   ]
  },
  {
   "cell_type": "markdown",
   "metadata": {},
   "source": [
    "## Task 1: Relation extraction from Wikipedia articles\n",
    "\n",
    "Use Wikipedia to extract the relation `directedBy(Movie, Person)` by applying pattern based heuristics that utilize: *Part Of Speech Tagging*, *Named Entity Recognition* and *Regular Expressions*.\n",
    "\n",
    "#### Required Library: SpaCy\n",
    "- ```conda install -y spacy```\n",
    "- ```python -m spacy download en```"
   ]
  },
  {
   "cell_type": "code",
   "execution_count": 1,
   "metadata": {},
   "outputs": [],
   "source": [
    "import urllib.request, json, csv, re\n",
    "import spacy\n",
    "nlp = spacy.load('en')"
   ]
  },
  {
   "cell_type": "code",
   "execution_count": 2,
   "metadata": {},
   "outputs": [],
   "source": [
    "#read tsv with input movies\n",
    "def read_tsv():\n",
    "    movies=[]\n",
    "    with open('movies.tsv','r') as file:\n",
    "        tsv = csv.reader(file, delimiter='\\t')\n",
    "        next(tsv) #remove header\n",
    "        movies = [{'movie':line[0], 'director':line[1]} for line in tsv]\n",
    "    return movies\n",
    "\n",
    "#parse wikipedia page\n",
    "def parse_wikipedia(movie):\n",
    "    txt = ''\n",
    "    try:\n",
    "        with urllib.request.urlopen('https://en.wikipedia.org/w/api.php?format=json&action=query&prop=extracts&exintro=&explaintext=&titles='+movie) as url:\n",
    "            data = json.loads(url.read().decode())\n",
    "            txt = next (iter (data['query']['pages'].values()))['extract']\n",
    "    except:\n",
    "        pass\n",
    "    return txt"
   ]
  },
  {
   "cell_type": "markdown",
   "metadata": {},
   "source": [
    "#### 1) Parse the raw text of a Wikipedia movie page and extract named (PER) entities."
   ]
  },
  {
   "cell_type": "code",
   "execution_count": 5,
   "metadata": {},
   "outputs": [
    {
     "data": {
      "text/plain": [
       "{'director': 'Daniel Lee', 'movie': '14_Blades'}"
      ]
     },
     "execution_count": 5,
     "metadata": {},
     "output_type": "execute_result"
    }
   ],
   "source": [
    "movies[1]"
   ]
  },
  {
   "cell_type": "code",
   "execution_count": 9,
   "metadata": {},
   "outputs": [
    {
     "data": {
      "text/plain": [
       "'14 Blades is a 2010 wuxia film directed by Daniel Lee, starring Donnie Yen, Zhao Wei, Sammo Hung, Wu Chun, Kate Tsui, Qi Yuwu and Damian Lau. The film was released on 4 February 2010 in China and on 11 February 2010 in Hong Kong.\\n\\n'"
      ]
     },
     "execution_count": 9,
     "metadata": {},
     "output_type": "execute_result"
    }
   ],
   "source": [
    "example = parse_wikipedia(movies[1]['movie'])\n",
    "example"
   ]
  },
  {
   "cell_type": "code",
   "execution_count": 22,
   "metadata": {},
   "outputs": [
    {
     "data": {
      "text/plain": [
       "['Daniel Lee',\n",
       " 'Donnie Yen',\n",
       " 'Zhao Wei',\n",
       " 'Sammo Hung',\n",
       " 'Wu Chun',\n",
       " 'Kate Tsui',\n",
       " 'Qi Yuwu',\n",
       " 'Damian Lau']"
      ]
     },
     "execution_count": 22,
     "metadata": {},
     "output_type": "execute_result"
    }
   ],
   "source": [
    "def find_PER_entities(txt):\n",
    "    persons = []\n",
    "    nlp_txt = nlp(txt)\n",
    "    \n",
    "    for e in nlp_txt.ents:\n",
    "        if e.label_ == \"PERSON\":\n",
    "            persons.append(e.text)\n",
    "        \n",
    "    return persons\n",
    "\n",
    "example_person = find_PER_entities(example)\n",
    "example_person"
   ]
  },
  {
   "cell_type": "markdown",
   "metadata": {},
   "source": [
    "#### 2) Given the raw text of a Wikipedia movie page and the extracted PER entities, find the director."
   ]
  },
  {
   "cell_type": "code",
   "execution_count": 30,
   "metadata": {},
   "outputs": [
    {
     "data": {
      "text/plain": [
       "'Daniel Lee'"
      ]
     },
     "execution_count": 30,
     "metadata": {},
     "output_type": "execute_result"
    }
   ],
   "source": [
    "def find_director(txt, persons):\n",
    "    split = re.sub('[!?,.]', '', txt).split() # simple split method by !, ?, ',', '.'\n",
    "    for index in range(0,len(split)):\n",
    "        if split[index] == \"directed\":\n",
    "            for index2 in range(index,len(split)):\n",
    "                for person in persons:\n",
    "                    if person.startswith(split[index2]):\n",
    "                        return person\n",
    "    return ''\n",
    "\n",
    "find_director(example, example_person) "
   ]
  },
  {
   "cell_type": "code",
   "execution_count": 31,
   "metadata": {},
   "outputs": [],
   "source": [
    "movies = read_tsv()\n",
    "\n",
    "statements=[]\n",
    "fp = 0\n",
    "for m in movies:\n",
    "\n",
    "        txt = parse_wikipedia(m['movie'])\n",
    "        persons = find_PER_entities(txt)\n",
    "        director = find_director(txt, persons)\n",
    "        \n",
    "        if director != '':\n",
    "            statements.append(m['movie'] + ' is directed by ' + director + '.')\n",
    "            if director != m['director']:\n",
    "                fp += 1"
   ]
  },
  {
   "cell_type": "markdown",
   "metadata": {},
   "source": [
    "#### 3) Compute the precision and recall based on the given ground truth (column Director from tsv file) and show examples of statements that are extracted."
   ]
  },
  {
   "cell_type": "code",
   "execution_count": 32,
   "metadata": {},
   "outputs": [
    {
     "name": "stdout",
     "output_type": "stream",
     "text": [
      "Precision: 0.8081632653061225\n",
      "Recall: 0.825\n",
      "\n",
      "***Sample Statements***\n",
      "13_Assassins_(2010_film) is directed by Takashi Miike.\n",
      "14_Blades is directed by Daniel Lee.\n",
      "22_Bullets is directed by Richard Berry.\n",
      "The_A-Team_(film) is directed by Joe Carnahan.\n",
      "Alien_vs_Ninja is directed by Seiji Chiba.\n"
     ]
    }
   ],
   "source": [
    "# compute precision and recall\n",
    "fn = len(movies) - len(statements)\n",
    "tp = len(statements) - fp\n",
    "\n",
    "precision = tp / (tp + fp)\n",
    "recall = tp / (tp + fn)\n",
    "print ('Precision:',precision)\n",
    "print ('Recall:',recall)\n",
    "\n",
    "print()\n",
    "print('***Sample Statements***')\n",
    "for s in statements[:5]:\n",
    "    print (s)"
   ]
  },
  {
   "cell_type": "markdown",
   "metadata": {},
   "source": [
    "## Task 2: Named Entity Recognition using Hidden Markov Model\n",
    "\n",
    "\n",
    "Define a Hidden Markov Model (HMM) that recognizes Person (*PER*) entities.\n",
    "Particularly, your model must be able to recognize pairs of the form (*firstname lastname*) as *PER* entities.\n",
    "Using the given sentences as training and test set:"
   ]
  },
  {
   "cell_type": "code",
   "execution_count": 2,
   "metadata": {},
   "outputs": [],
   "source": [
    "training_set=['The best blues singer was Bobby Bland while Ray Charles pioneered soul music .', \\\n",
    "              'Bobby Bland was just a singer whereas Ray Charles was a pianist , songwriter and singer .' \\\n",
    "              'None of them lived in Chicago .']\n",
    "\n",
    "test_set=['Ray Charles was born in 1930 .', \\\n",
    "          'Bobby Bland was born the same year as Ray Charles .', \\\n",
    "          'Muddy Waters is the father of Chicago Blues .']"
   ]
  },
  {
   "cell_type": "markdown",
   "metadata": {},
   "source": [
    "#### 1) Annotate your training set with the labels I (for PER entities) and O (for non PER entities).\n",
    "\t\n",
    "    *Hint*: Represent the sentences as sequences of bigrams, and label each bigram.\n",
    "\tOnly bigrams that contain pairs of the form (*firstname lastname*) are considered as *PER* entities."
   ]
  },
  {
   "cell_type": "code",
   "execution_count": 3,
   "metadata": {},
   "outputs": [
    {
     "name": "stdout",
     "output_type": "stream",
     "text": [
      "Annotation\n",
      " [['The best', 'O'], ['best blues', 'O'], ['blues singer', 'O'], ['singer was', 'O'], ['was Bobby', 'O'], ['Bobby Bland', 'I'], ['Bland while', 'O'], ['while Ray', 'O'], ['Ray Charles', 'I'], ['Charles pioneered', 'O'], ['pioneered soul', 'O'], ['soul music', 'O'], ['music .', 'O'], ['Bobby Bland', 'I'], ['Bland was', 'O'], ['was just', 'O'], ['just a', 'O'], ['a singer', 'O'], ['singer whereas', 'O'], ['whereas Ray', 'O'], ['Ray Charles', 'I'], ['Charles was', 'O'], ['was a', 'O'], ['a pianist', 'O'], ['pianist ,', 'O'], [', songwriter', 'O'], ['songwriter and', 'O'], ['and singer', 'O'], ['singer .None', 'O'], ['.None of', 'O'], ['of them', 'O'], ['them lived', 'O'], ['lived in', 'O'], ['in Chicago', 'O'], ['Chicago .', 'O']] \n",
      "\n"
     ]
    }
   ],
   "source": [
    "#Bigram Representation\n",
    "\n",
    "#### [:-1] to remove last element\n",
    "#### [1:] to start from 2nd element\n",
    "\n",
    "def getBigrams(sents):\n",
    "    return [b[0]+' '+b[1] for l in sents for b in zip(l.split(' ')[:-1], l.split(' ')[1:])]\n",
    "\n",
    "bigrams = getBigrams(training_set)\n",
    "\n",
    "#Annotation\n",
    "PER = ['Bobby Bland', 'Ray Charles']\n",
    "annotations = []\n",
    "for b in bigrams:\n",
    "    if b in PER:\n",
    "        annotations.append([b,\"I\"])\n",
    "    else:\n",
    "        annotations.append([b,\"O\"])\n",
    "print('Annotation\\n', annotations,'\\n')"
   ]
  },
  {
   "cell_type": "markdown",
   "metadata": {},
   "source": [
    "#### 2) Compute the transition and emission probabilities for the HMM (use smoothing parameter $\\lambda$=0.5).\n",
    "\n",
    "    *Hint*: For the emission probabilities you can utilize the morphology of the words that constitute a bigram (e.g., you can count their uppercase first characters)."
   ]
  },
  {
   "cell_type": "code",
   "execution_count": 4,
   "metadata": {},
   "outputs": [
    {
     "name": "stdout",
     "output_type": "stream",
     "text": [
      "Transition Probabilities\n",
      " {'P(I|start)': 0.11764705882352941, 'P(O|start)': 0.8823529411764706, 'P(O|O)': 0.8666666666666667, 'P(O|I)': 1.0, 'P(I|O)': 0.13333333333333333, 'P(I|I)': 0.0} \n",
      "\n",
      "Emission Probabilities\n",
      " {'P(2_upper|O)': 0.014285714285714285, 'P(2_upper|I)': 0.5142857142857142, 'P(1_upper|O)': 0.18095238095238095, 'P(1_upper|I)': 0.014285714285714285, 'P(0_upper|O)': 0.36428571428571427, 'P(0_upper|I)': 0.014285714285714285} \n",
      "\n"
     ]
    }
   ],
   "source": [
    "lambda_ = 0.5\n",
    "\n",
    "#Transition Probabilities\n",
    "transition_prob={}\n",
    "\n",
    "nI = 0\n",
    "nO = 0\n",
    "\n",
    "for annotation in annotations[1:]:\n",
    "    if annotation[1] == \"I\":\n",
    "        nI += 1\n",
    "    elif annotation[1] == \"O\":\n",
    "        nO += 1\n",
    "\n",
    "#Prior\n",
    "transition_prob['P(I|start)'] = nI / (nI + nO)\n",
    "transition_prob['P(O|start)'] = 1 - transition_prob['P(I|start)']\n",
    "\n",
    "O_O_count = 0\n",
    "O_I_count = 0\n",
    "I_I_count = 0\n",
    "I_O_count = 0\n",
    "\n",
    "for index in range(0,len(annotations)-1):\n",
    "    if annotations[index][1] == \"O\":\n",
    "        if annotations[index+1][1] == \"O\":\n",
    "            O_O_count += 1\n",
    "        elif annotations[index+1][1] == \"I\":\n",
    "            O_I_count += 1\n",
    "    elif annotations[index][1] == \"I\":\n",
    "        if annotations[index+1][1] == \"O\":\n",
    "            I_O_count += 1\n",
    "        elif annotations[index+1][1] == \"I\":\n",
    "            I_I_count += 1\n",
    "\n",
    "transition_prob['P(O|O)'] = O_O_count / nO\n",
    "transition_prob['P(O|I)'] = I_O_count / nI\n",
    "transition_prob['P(I|O)'] = O_I_count / nO\n",
    "transition_prob['P(I|I)'] = I_I_count / nI\n",
    "\n",
    "print('Transition Probabilities\\n',transition_prob, '\\n')\n",
    "\n",
    "#Emission Probabilities\n",
    "emission_prob={}\n",
    "\n",
    "def count_upper_first_char(bigram):\n",
    "    bigram = bigram.split(\" \")\n",
    "    count = 0\n",
    "    if bigram[0][0].isupper():\n",
    "        count += 1\n",
    "    if bigram[1][0].isupper():\n",
    "        count += 1\n",
    "    return count\n",
    "        \n",
    "default_emission = (1 - lambda_) / len(annotations) # len(annotations) == len(bigrams)\n",
    "\n",
    "two_upper_O = 0\n",
    "two_upper_I = 0\n",
    "one_upper_O = 0\n",
    "one_upper_I = 0\n",
    "zero_upper_O = 0\n",
    "zero_upper_I = 0\n",
    "\n",
    "for annotation in annotations:\n",
    "    if count_upper_first_char(annotation[0]) == 2 and annotation[1] == \"O\":\n",
    "        two_upper_O += 1\n",
    "    elif count_upper_first_char(annotation[0]) == 2 and annotation[1] == \"I\":\n",
    "        two_upper_I += 1\n",
    "    elif count_upper_first_char(annotation[0]) == 1 and annotation[1] == \"O\":\n",
    "        one_upper_O += 1\n",
    "    elif count_upper_first_char(annotation[0]) == 1 and annotation[1] == \"I\":\n",
    "        one_upper_I += 1\n",
    "    elif count_upper_first_char(annotation[0]) == 0 and annotation[1] == \"O\":\n",
    "        zero_upper_O += 1\n",
    "    elif count_upper_first_char(annotation[0]) == 0 and annotation[1] == \"I\":\n",
    "        zero_upper_I += 1\n",
    "\n",
    "emission_prob['P(2_upper|O)'] = (two_upper_O / nO) * lambda_ + default_emission\n",
    "emission_prob['P(2_upper|I)'] = (two_upper_I / nI) * lambda_ + default_emission\n",
    "emission_prob['P(1_upper|O)'] = (one_upper_O / nO) * lambda_ + default_emission\n",
    "emission_prob['P(1_upper|I)'] = (one_upper_I / nI) * lambda_ + default_emission\n",
    "emission_prob['P(0_upper|O)'] = (zero_upper_O / nO) * lambda_ + default_emission\n",
    "emission_prob['P(0_upper|I)'] = (zero_upper_I / nI) * lambda_ + default_emission\n",
    "\n",
    "print('Emission Probabilities\\n', emission_prob, '\\n')"
   ]
  },
  {
   "cell_type": "markdown",
   "metadata": {},
   "source": [
    "#### 3) Predict the labels of the test set and compute the precision and the recall of your model."
   ]
  },
  {
   "cell_type": "code",
   "execution_count": 5,
   "metadata": {},
   "outputs": [
    {
     "name": "stdout",
     "output_type": "stream",
     "text": [
      "Predicted Entities\n",
      " ['Ray Charles', 'Bobby Bland', 'Ray Charles', 'Muddy Waters', 'Chicago Blues'] \n",
      "\n"
     ]
    }
   ],
   "source": [
    "#Prediction\n",
    "bigrams = getBigrams(test_set)\n",
    "entities=[]\n",
    "prev_state='start'\n",
    "for b in bigrams:\n",
    "    I_prob = transition_prob[\"P(I|\" + prev_state + \")\"] * \\\n",
    "             emission_prob[\"P(\" + str(count_upper_first_char(b)) + \"_upper|I)\"]\n",
    "    O_prob = transition_prob[\"P(O|\" + prev_state + \")\"] * \\\n",
    "             emission_prob[\"P(\" + str(count_upper_first_char(b)) + \"_upper|O)\"]\n",
    "    \n",
    "    if O_prob > I_prob:\n",
    "        prev_state = 'O'\n",
    "    else:\n",
    "        entities.append(b)\n",
    "        prev_state = 'I'\n",
    "\n",
    "print('Predicted Entities\\n', entities, '\\n')"
   ]
  },
  {
   "cell_type": "markdown",
   "metadata": {},
   "source": [
    "Precision is *75%* while recall is *100%*. \n",
    "<br>Chicago Blues is not PER"
   ]
  },
  {
   "cell_type": "markdown",
   "metadata": {},
   "source": [
    "#### 4) Comment on how you can further improve this model."
   ]
  },
  {
   "cell_type": "markdown",
   "metadata": {},
   "source": [
    "..."
   ]
  }
 ],
 "metadata": {
  "kernelspec": {
   "display_name": "Python [default]",
   "language": "python",
   "name": "python3"
  },
  "language_info": {
   "codemirror_mode": {
    "name": "ipython",
    "version": 3
   },
   "file_extension": ".py",
   "mimetype": "text/x-python",
   "name": "python",
   "nbconvert_exporter": "python",
   "pygments_lexer": "ipython3",
   "version": "3.6.5"
  },
  "toc": {
   "colors": {
    "hover_highlight": "#DAA520",
    "navigate_num": "#000000",
    "navigate_text": "#333333",
    "running_highlight": "#FF0000",
    "selected_highlight": "#FFD700",
    "sidebar_border": "#EEEEEE",
    "wrapper_background": "#FFFFFF"
   },
   "moveMenuLeft": true,
   "nav_menu": {
    "height": "228px",
    "width": "252px"
   },
   "navigate_menu": true,
   "number_sections": true,
   "sideBar": true,
   "threshold": 4,
   "toc_cell": false,
   "toc_section_display": "block",
   "toc_window_display": false,
   "widenNotebook": false
  }
 },
 "nbformat": 4,
 "nbformat_minor": 1
}
